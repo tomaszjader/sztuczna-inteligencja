{
 "cells": [
  {
   "cell_type": "code",
   "execution_count": 22,
   "metadata": {},
   "outputs": [],
   "source": [
    "import numpy as np\n",
    "class Perceptron(object):\n",
    "    def __init__(self, eta=0.01, n_iter=50, random_state=1):\n",
    "        self.eta = eta\n",
    "        self.n_iter = n_iter\n",
    "        self.random_state = random_state\n",
    "        \n",
    "    def fit(self, X, y):\n",
    "        rgen = np.random.RandomState(self.random_state)\n",
    "        self.w_ = rgen.normal(loc=0.0, scale=0.01, size=1+X.shape[1])\n",
    "        self.errors_ = []\n",
    "        for _ in range(self.n_iter):\n",
    "            errors = 0\n",
    "            for xi, target in zip(X, y):\n",
    "                update = self.eta*(target-self.predict(xi))\n",
    "                self.w_[1:]+=update*xi\n",
    "                self.w_[0]+=update\n",
    "                errors += int(update != 0.0)\n",
    "            self.errors_.append(errors)\n",
    "        return self\n",
    "\n",
    "    def net_input(self, X):\n",
    "          return np.dot(X, self.w_[1:]+self.w_[0])\n",
    "    def predict(self, X):\n",
    "        return np.where(self.net_input(X) >=0.0, 1, -1)"
   ]
  },
  {
   "cell_type": "code",
   "execution_count": 23,
   "metadata": {},
   "outputs": [],
   "source": [
    "import matplotlib.pyplot as plt\n",
    "from sklearn.linear_model import Perceptron"
   ]
  },
  {
   "cell_type": "code",
   "execution_count": 24,
   "metadata": {},
   "outputs": [],
   "source": [
    "class SLP:\n",
    "  def __init__(self, eta=0.05, n_iter=10, random_state=1):\n",
    "    self.eta = eta\n",
    "    self.n_iter = n_iter\n",
    "    self.random_state = random_state\n",
    "\n",
    "  def fit(self, X, y):\n",
    "    n = y.shape[1]\n",
    "    self.perceptrons =[]\n",
    "    self.errors_ = np.zeros(n)\n",
    "    for i in range(n):\n",
    "      self.perceptrons.append(Perceptron(eta0=self.eta,max_iter=self.n_iter,random_state=self.random_state).fit(X, y[:,i]))\n",
    "      #self.errors_ += self.perceptrons[i].errors_\n",
    "    return self\n",
    "\n",
    "  def predict(self, X):\n",
    "    result = []\n",
    "    for i in range(len(self.perceptrons)):\n",
    "      result.append(self.perceptrons[i].predict(X))\n",
    "    return result\n",
    "\n",
    "  def predict_but_better(self, X):\n",
    "    result = np.empty((X.shape[0],len(self.perceptrons)))\n",
    "    for i in range(len(self.perceptrons)):\n",
    "      result[:,i] = self.perceptrons[i].net_input(X)\n",
    "    prediction = np.full_like(result, -1)#tworze maciez z minus 1\n",
    "    for i in range(X.shape[0]):\n",
    "      row_max = np.argmax(result[i,:])\n",
    "      prediction[i,row_max] = 1\n",
    "    return prediction\n",
    "\n",
    "  def misclassified(self, X, y):\n",
    "    couter = 0\n",
    "    prediction = self.predict(X)\n",
    "    for i in range(y.shape[0]):\n",
    "      if np.any(prediction[i] != y[i,:]):\n",
    "        couter+=1\n",
    "    return couter\n",
    "    \n",
    "  def show(self, X):\n",
    "    fig, _ = plt.subplots(2,5)\n",
    "    ax = fig.axes\n",
    "    for i in range(X.shape[0]):\n",
    "      letter = X[i,:].reshape(7,5)\n",
    "      ax[i].imshow(letter, cmap='gray')\n"
   ]
  },
  {
   "cell_type": "code",
   "execution_count": 25,
   "metadata": {},
   "outputs": [],
   "source": [
    "import pandas as pd\n",
    "alfabet = [ 1 , 4, 5, 8, 9, 10, 15, 16, 19, 25]\n",
    "#alfabet =[10,11,12,13,14,15,16,17,18,19]\n",
    "letters = pd.read_csv(\"letters.data.txt\", header=None).to_numpy()\n",
    "X = letters[:,0:35]\n",
    "y = letters[:,35:]\n",
    "X = X[alfabet,:]\n",
    "y = y[alfabet,:][:,alfabet]"
   ]
  },
  {
   "cell_type": "code",
   "execution_count": 26,
   "metadata": {},
   "outputs": [
    {
     "name": "stderr",
     "output_type": "stream",
     "text": [
      "c:\\Python310\\lib\\site-packages\\sklearn\\linear_model\\_stochastic_gradient.py:705: ConvergenceWarning: Maximum number of iteration reached before convergence. Consider increasing max_iter to improve the fit.\n",
      "  warnings.warn(\n",
      "c:\\Python310\\lib\\site-packages\\sklearn\\linear_model\\_stochastic_gradient.py:705: ConvergenceWarning: Maximum number of iteration reached before convergence. Consider increasing max_iter to improve the fit.\n",
      "  warnings.warn(\n"
     ]
    }
   ],
   "source": [
    "net = SLP().fit(X,y)"
   ]
  },
  {
   "cell_type": "code",
   "execution_count": 27,
   "metadata": {},
   "outputs": [],
   "source": [
    "#net.predict(X)"
   ]
  },
  {
   "cell_type": "code",
   "execution_count": 28,
   "metadata": {},
   "outputs": [
    {
     "data": {
      "image/png": "[encoded data removed]",
      "text/plain": [
       "<Figure size 432x288 with 10 Axes>"
      ]
     },
     "metadata": {
      "needs_background": "light"
     },
     "output_type": "display_data"
    }
   ],
   "source": [
    "net.show(X)"
   ]
  },
  {
   "cell_type": "code",
   "execution_count": 29,
   "metadata": {},
   "outputs": [
    {
     "data": {
      "text/plain": [
       "[array([ 1, -1, -1, -1, -1, -1, -1, -1, -1, -1], dtype=int64),\n",
       " array([-1,  1, -1, -1, -1, -1, -1, -1, -1, -1], dtype=int64),\n",
       " array([-1, -1,  1, -1, -1, -1, -1, -1, -1, -1], dtype=int64),\n",
       " array([-1, -1, -1,  1, -1, -1, -1, -1, -1, -1], dtype=int64),\n",
       " array([-1, -1, -1, -1,  1, -1, -1, -1, -1, -1], dtype=int64),\n",
       " array([-1, -1, -1, -1, -1,  1, -1, -1, -1, -1], dtype=int64),\n",
       " array([-1, -1, -1, -1, -1, -1, -1, -1, -1, -1], dtype=int64),\n",
       " array([-1, -1, -1, -1, -1, -1, -1,  1, -1, -1], dtype=int64),\n",
       " array([-1, -1, -1, -1, -1, -1, -1, -1,  1, -1], dtype=int64),\n",
       " array([-1, -1, -1, -1, -1, -1, -1, -1, -1,  1], dtype=int64)]"
      ]
     },
     "execution_count": 29,
     "metadata": {},
     "output_type": "execute_result"
    }
   ],
   "source": [
    "net.predict(X)"
   ]
  },
  {
   "cell_type": "code",
   "execution_count": 30,
   "metadata": {},
   "outputs": [
    {
     "data": {
      "text/plain": [
       "array([0., 0., 0., 0., 0., 0., 0., 0., 0., 0.])"
      ]
     },
     "execution_count": 30,
     "metadata": {},
     "output_type": "execute_result"
    }
   ],
   "source": [
    "net.errors_"
   ]
  },
  {
   "cell_type": "code",
   "execution_count": 31,
   "metadata": {},
   "outputs": [
    {
     "data": {
      "text/plain": [
       "1"
      ]
     },
     "execution_count": 31,
     "metadata": {},
     "output_type": "execute_result"
    }
   ],
   "source": [
    "net.misclassified(X,y)"
   ]
  },
  {
   "cell_type": "code",
   "execution_count": 32,
   "metadata": {},
   "outputs": [],
   "source": [
    "def damage(X,percent, seed=1): \n",
    "    rgen = np.random.RandomState(seed) \n",
    "    result = np.array( X ) \n",
    "    count = int( X.shape[1]* percent/100)\n",
    "\n",
    "    for indeks_example in range(len(X) ): \n",
    "        order= np.sort( rgen.choice( X.shape[1], count, replace=False)) \n",
    "        for indeks_pixel in order: \n",
    "            result[indeks_example][indeks_pixel]*=-1\n",
    "\n",
    "    return result"
   ]
  },
  {
   "cell_type": "code",
   "execution_count": 33,
   "metadata": {},
   "outputs": [],
   "source": [
    "damage5 = damage(X,5)\n",
    "damage15 = damage(X,15)\n",
    "damage40 = damage(X,40)"
   ]
  },
  {
   "cell_type": "code",
   "execution_count": 34,
   "metadata": {},
   "outputs": [
    {
     "data": {
      "text/plain": [
       "[array([ 1, -1, -1, -1, -1, -1, -1, -1, -1, -1], dtype=int64),\n",
       " array([-1,  1, -1, -1, -1, -1, -1, -1, -1, -1], dtype=int64),\n",
       " array([-1, -1, -1, -1, -1, -1, -1, -1, -1, -1], dtype=int64),\n",
       " array([-1, -1, -1,  1, -1, -1, -1,  1, -1, -1], dtype=int64),\n",
       " array([-1, -1, -1, -1,  1, -1, -1, -1, -1, -1], dtype=int64),\n",
       " array([-1, -1, -1, -1, -1,  1, -1, -1, -1, -1], dtype=int64),\n",
       " array([-1, -1, -1, -1, -1, -1, -1, -1, -1, -1], dtype=int64),\n",
       " array([-1, -1, -1, -1, -1, -1, -1,  1, -1, -1], dtype=int64),\n",
       " array([-1, -1, -1, -1, -1, -1, -1, -1,  1, -1], dtype=int64),\n",
       " array([-1, -1, -1, -1, -1, -1, -1, -1, -1,  1], dtype=int64)]"
      ]
     },
     "execution_count": 34,
     "metadata": {},
     "output_type": "execute_result"
    }
   ],
   "source": [
    "\n",
    "net.predict(damage5)"
   ]
  },
  {
   "cell_type": "code",
   "execution_count": 35,
   "metadata": {},
   "outputs": [
    {
     "data": {
      "image/png": "[encoded data removed]",
      "text/plain": [
       "<Figure size 432x288 with 10 Axes>"
      ]
     },
     "metadata": {
      "needs_background": "light"
     },
     "output_type": "display_data"
    }
   ],
   "source": [
    "net.show(damage5)"
   ]
  },
  {
   "cell_type": "code",
   "execution_count": 36,
   "metadata": {},
   "outputs": [
    {
     "data": {
      "text/plain": [
       "3"
      ]
     },
     "execution_count": 36,
     "metadata": {},
     "output_type": "execute_result"
    }
   ],
   "source": [
    "net.misclassified(damage5,y)"
   ]
  },
  {
   "cell_type": "code",
   "execution_count": 37,
   "metadata": {},
   "outputs": [
    {
     "data": {
      "text/plain": [
       "[array([-1, -1, -1, -1, -1, -1, -1, -1, -1, -1], dtype=int64),\n",
       " array([-1,  1, -1, -1, -1, -1, -1, -1, -1,  1], dtype=int64),\n",
       " array([-1, -1, -1, -1, -1, -1, -1, -1, -1, -1], dtype=int64),\n",
       " array([-1, -1, -1,  1, -1, -1, -1, -1, -1, -1], dtype=int64),\n",
       " array([-1, -1, -1, -1,  1, -1, -1, -1, -1, -1], dtype=int64),\n",
       " array([-1, -1, -1,  1, -1,  1, -1, -1,  1, -1], dtype=int64),\n",
       " array([-1, -1, -1, -1, -1, -1,  1, -1, -1, -1], dtype=int64),\n",
       " array([-1, -1, -1, -1, -1, -1, -1,  1, -1, -1], dtype=int64),\n",
       " array([-1, -1, -1, -1, -1, -1, -1, -1,  1, -1], dtype=int64),\n",
       " array([-1, -1, -1, -1, -1, -1, -1, -1, -1,  1], dtype=int64)]"
      ]
     },
     "execution_count": 37,
     "metadata": {},
     "output_type": "execute_result"
    }
   ],
   "source": [
    "net.predict(damage15)"
   ]
  },
  {
   "cell_type": "code",
   "execution_count": 38,
   "metadata": {},
   "outputs": [
    {
     "data": {
      "image/png": "[encoded data removed]",
      "text/plain": [
       "<Figure size 432x288 with 10 Axes>"
      ]
     },
     "metadata": {
      "needs_background": "light"
     },
     "output_type": "display_data"
    }
   ],
   "source": [
    "net.show(damage15)"
   ]
  },
  {
   "cell_type": "code",
   "execution_count": 39,
   "metadata": {},
   "outputs": [
    {
     "data": {
      "text/plain": [
       "4"
      ]
     },
     "execution_count": 39,
     "metadata": {},
     "output_type": "execute_result"
    }
   ],
   "source": [
    "net.misclassified(damage15,y)"
   ]
  },
  {
   "cell_type": "code",
   "execution_count": 40,
   "metadata": {},
   "outputs": [
    {
     "data": {
      "text/plain": [
       "[array([-1, -1, -1,  1,  1, -1, -1,  1, -1,  1], dtype=int64),\n",
       " array([-1, -1, -1, -1, -1,  1,  1, -1, -1,  1], dtype=int64),\n",
       " array([-1, -1, -1, -1, -1,  1,  1, -1, -1, -1], dtype=int64),\n",
       " array([-1, -1, -1,  1, -1, -1, -1,  1, -1,  1], dtype=int64),\n",
       " array([-1, -1, -1,  1,  1, -1, -1, -1, -1,  1], dtype=int64),\n",
       " array([-1, -1,  1,  1, -1, -1, -1,  1,  1,  1], dtype=int64),\n",
       " array([-1, -1, -1,  1, -1, -1, -1,  1, -1, -1], dtype=int64),\n",
       " array([-1, -1, -1,  1, -1, -1, -1,  1, -1,  1], dtype=int64),\n",
       " array([-1,  1, -1, -1,  1, -1,  1,  1,  1, -1], dtype=int64),\n",
       " array([-1, -1, -1, -1,  1, -1, -1, -1, -1,  1], dtype=int64)]"
      ]
     },
     "execution_count": 40,
     "metadata": {},
     "output_type": "execute_result"
    }
   ],
   "source": [
    "net.predict(damage40)"
   ]
  },
  {
   "cell_type": "code",
   "execution_count": 41,
   "metadata": {},
   "outputs": [
    {
     "data": {
      "image/png": "[encoded data removed]",
      "text/plain": [
       "<Figure size 432x288 with 10 Axes>"
      ]
     },
     "metadata": {
      "needs_background": "light"
     },
     "output_type": "display_data"
    }
   ],
   "source": [
    "net.show(damage40)"
   ]
  },
  {
   "cell_type": "code",
   "execution_count": 42,
   "metadata": {},
   "outputs": [
    {
     "data": {
      "text/plain": [
       "10"
      ]
     },
     "execution_count": 42,
     "metadata": {},
     "output_type": "execute_result"
    }
   ],
   "source": [
    "net.misclassified(damage40,y)"
   ]
  }
 ],
 "metadata": {
  "interpreter": {
   "hash": "369f2c481f4da34e4445cda3fffd2e751bd1c4d706f27375911949ba6bb62e1c"
  },
  "kernelspec": {
   "display_name": "Python 3.10.4 64-bit",
   "language": "python",
   "name": "python3"
  },
  "language_info": {
   "codemirror_mode": {
    "name": "ipython",
    "version": 3
   },
   "file_extension": ".py",
   "mimetype": "text/x-python",
   "name": "python",
   "nbconvert_exporter": "python",
   "pygments_lexer": "ipython3",
   "version": "3.10.4"
  },
  "orig_nbformat": 4
 },
 "nbformat": 4,
 "nbformat_minor": 2
}
